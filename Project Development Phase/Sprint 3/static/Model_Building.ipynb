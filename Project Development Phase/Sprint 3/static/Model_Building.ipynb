{
  "nbformat": 4,
  "nbformat_minor": 0,
  "metadata": {
    "colab": {
      "provenance": [],
      "collapsed_sections": []
    },
    "kernelspec": {
      "name": "python3",
      "display_name": "Python 3"
    },
    "language_info": {
      "name": "python"
    }
  },
  "cells": [
    {
      "cell_type": "code",
      "execution_count": 1,
      "metadata": {
        "id": "GTBmwGZiO5ud"
      },
      "outputs": [],
      "source": [
        "import pandas as pd\n",
        "import numpy as np\n",
        "import matplotlib.pyplot as plt"
      ]
    },
    {
      "cell_type": "code",
      "source": [
        "Data=pd.read_excel(r\"/content/Crude Oil Prices Daily.xlsx\")\n",
        "Data"
      ],
      "metadata": {
        "colab": {
          "base_uri": "https://localhost:8080/",
          "height": 423
        },
        "id": "sydq73CjRFRf",
        "outputId": "ee982c91-4c0b-4c16-93fa-f1ff48fcc656"
      },
      "execution_count": 2,
      "outputs": [
        {
          "output_type": "execute_result",
          "data": {
            "text/plain": [
              "           Date  Closing Value\n",
              "0    1986-01-02          25.56\n",
              "1    1986-01-03          26.00\n",
              "2    1986-01-06          26.53\n",
              "3    1986-01-07          25.85\n",
              "4    1986-01-08          25.87\n",
              "...         ...            ...\n",
              "8218 2018-07-03          74.19\n",
              "8219 2018-07-04            NaN\n",
              "8220 2018-07-05          73.05\n",
              "8221 2018-07-06          73.78\n",
              "8222 2018-07-09          73.93\n",
              "\n",
              "[8223 rows x 2 columns]"
            ],
            "text/html": [
              "\n",
              "  <div id=\"df-c0eea178-f591-4614-8b07-6c21468569bd\">\n",
              "    <div class=\"colab-df-container\">\n",
              "      <div>\n",
              "<style scoped>\n",
              "    .dataframe tbody tr th:only-of-type {\n",
              "        vertical-align: middle;\n",
              "    }\n",
              "\n",
              "    .dataframe tbody tr th {\n",
              "        vertical-align: top;\n",
              "    }\n",
              "\n",
              "    .dataframe thead th {\n",
              "        text-align: right;\n",
              "    }\n",
              "</style>\n",
              "<table border=\"1\" class=\"dataframe\">\n",
              "  <thead>\n",
              "    <tr style=\"text-align: right;\">\n",
              "      <th></th>\n",
              "      <th>Date</th>\n",
              "      <th>Closing Value</th>\n",
              "    </tr>\n",
              "  </thead>\n",
              "  <tbody>\n",
              "    <tr>\n",
              "      <th>0</th>\n",
              "      <td>1986-01-02</td>\n",
              "      <td>25.56</td>\n",
              "    </tr>\n",
              "    <tr>\n",
              "      <th>1</th>\n",
              "      <td>1986-01-03</td>\n",
              "      <td>26.00</td>\n",
              "    </tr>\n",
              "    <tr>\n",
              "      <th>2</th>\n",
              "      <td>1986-01-06</td>\n",
              "      <td>26.53</td>\n",
              "    </tr>\n",
              "    <tr>\n",
              "      <th>3</th>\n",
              "      <td>1986-01-07</td>\n",
              "      <td>25.85</td>\n",
              "    </tr>\n",
              "    <tr>\n",
              "      <th>4</th>\n",
              "      <td>1986-01-08</td>\n",
              "      <td>25.87</td>\n",
              "    </tr>\n",
              "    <tr>\n",
              "      <th>...</th>\n",
              "      <td>...</td>\n",
              "      <td>...</td>\n",
              "    </tr>\n",
              "    <tr>\n",
              "      <th>8218</th>\n",
              "      <td>2018-07-03</td>\n",
              "      <td>74.19</td>\n",
              "    </tr>\n",
              "    <tr>\n",
              "      <th>8219</th>\n",
              "      <td>2018-07-04</td>\n",
              "      <td>NaN</td>\n",
              "    </tr>\n",
              "    <tr>\n",
              "      <th>8220</th>\n",
              "      <td>2018-07-05</td>\n",
              "      <td>73.05</td>\n",
              "    </tr>\n",
              "    <tr>\n",
              "      <th>8221</th>\n",
              "      <td>2018-07-06</td>\n",
              "      <td>73.78</td>\n",
              "    </tr>\n",
              "    <tr>\n",
              "      <th>8222</th>\n",
              "      <td>2018-07-09</td>\n",
              "      <td>73.93</td>\n",
              "    </tr>\n",
              "  </tbody>\n",
              "</table>\n",
              "<p>8223 rows × 2 columns</p>\n",
              "</div>\n",
              "      <button class=\"colab-df-convert\" onclick=\"convertToInteractive('df-c0eea178-f591-4614-8b07-6c21468569bd')\"\n",
              "              title=\"Convert this dataframe to an interactive table.\"\n",
              "              style=\"display:none;\">\n",
              "        \n",
              "  <svg xmlns=\"http://www.w3.org/2000/svg\" height=\"24px\"viewBox=\"0 0 24 24\"\n",
              "       width=\"24px\">\n",
              "    <path d=\"M0 0h24v24H0V0z\" fill=\"none\"/>\n",
              "    <path d=\"M18.56 5.44l.94 2.06.94-2.06 2.06-.94-2.06-.94-.94-2.06-.94 2.06-2.06.94zm-11 1L8.5 8.5l.94-2.06 2.06-.94-2.06-.94L8.5 2.5l-.94 2.06-2.06.94zm10 10l.94 2.06.94-2.06 2.06-.94-2.06-.94-.94-2.06-.94 2.06-2.06.94z\"/><path d=\"M17.41 7.96l-1.37-1.37c-.4-.4-.92-.59-1.43-.59-.52 0-1.04.2-1.43.59L10.3 9.45l-7.72 7.72c-.78.78-.78 2.05 0 2.83L4 21.41c.39.39.9.59 1.41.59.51 0 1.02-.2 1.41-.59l7.78-7.78 2.81-2.81c.8-.78.8-2.07 0-2.86zM5.41 20L4 18.59l7.72-7.72 1.47 1.35L5.41 20z\"/>\n",
              "  </svg>\n",
              "      </button>\n",
              "      \n",
              "  <style>\n",
              "    .colab-df-container {\n",
              "      display:flex;\n",
              "      flex-wrap:wrap;\n",
              "      gap: 12px;\n",
              "    }\n",
              "\n",
              "    .colab-df-convert {\n",
              "      background-color: #E8F0FE;\n",
              "      border: none;\n",
              "      border-radius: 50%;\n",
              "      cursor: pointer;\n",
              "      display: none;\n",
              "      fill: #1967D2;\n",
              "      height: 32px;\n",
              "      padding: 0 0 0 0;\n",
              "      width: 32px;\n",
              "    }\n",
              "\n",
              "    .colab-df-convert:hover {\n",
              "      background-color: #E2EBFA;\n",
              "      box-shadow: 0px 1px 2px rgba(60, 64, 67, 0.3), 0px 1px 3px 1px rgba(60, 64, 67, 0.15);\n",
              "      fill: #174EA6;\n",
              "    }\n",
              "\n",
              "    [theme=dark] .colab-df-convert {\n",
              "      background-color: #3B4455;\n",
              "      fill: #D2E3FC;\n",
              "    }\n",
              "\n",
              "    [theme=dark] .colab-df-convert:hover {\n",
              "      background-color: #434B5C;\n",
              "      box-shadow: 0px 1px 3px 1px rgba(0, 0, 0, 0.15);\n",
              "      filter: drop-shadow(0px 1px 2px rgba(0, 0, 0, 0.3));\n",
              "      fill: #FFFFFF;\n",
              "    }\n",
              "  </style>\n",
              "\n",
              "      <script>\n",
              "        const buttonEl =\n",
              "          document.querySelector('#df-c0eea178-f591-4614-8b07-6c21468569bd button.colab-df-convert');\n",
              "        buttonEl.style.display =\n",
              "          google.colab.kernel.accessAllowed ? 'block' : 'none';\n",
              "\n",
              "        async function convertToInteractive(key) {\n",
              "          const element = document.querySelector('#df-c0eea178-f591-4614-8b07-6c21468569bd');\n",
              "          const dataTable =\n",
              "            await google.colab.kernel.invokeFunction('convertToInteractive',\n",
              "                                                     [key], {});\n",
              "          if (!dataTable) return;\n",
              "\n",
              "          const docLinkHtml = 'Like what you see? Visit the ' +\n",
              "            '<a target=\"_blank\" href=https://colab.research.google.com/notebooks/data_table.ipynb>data table notebook</a>'\n",
              "            + ' to learn more about interactive tables.';\n",
              "          element.innerHTML = '';\n",
              "          dataTable['output_type'] = 'display_data';\n",
              "          await google.colab.output.renderOutput(dataTable, element);\n",
              "          const docLink = document.createElement('div');\n",
              "          docLink.innerHTML = docLinkHtml;\n",
              "          element.appendChild(docLink);\n",
              "        }\n",
              "      </script>\n",
              "    </div>\n",
              "  </div>\n",
              "  "
            ]
          },
          "metadata": {},
          "execution_count": 2
        }
      ]
    },
    {
      "cell_type": "code",
      "source": [
        "Data.isnull().any()"
      ],
      "metadata": {
        "colab": {
          "base_uri": "https://localhost:8080/"
        },
        "id": "v5cCtC5jTyKl",
        "outputId": "35602ee0-cabb-4bc1-a321-b6aeeb3874be"
      },
      "execution_count": 3,
      "outputs": [
        {
          "output_type": "execute_result",
          "data": {
            "text/plain": [
              "Date             False\n",
              "Closing Value     True\n",
              "dtype: bool"
            ]
          },
          "metadata": {},
          "execution_count": 3
        }
      ]
    },
    {
      "cell_type": "code",
      "source": [
        "Data.isnull().sum()"
      ],
      "metadata": {
        "colab": {
          "base_uri": "https://localhost:8080/"
        },
        "id": "d51Zlo6cUBl9",
        "outputId": "6477e270-5a5b-4496-d69b-79c940d77273"
      },
      "execution_count": 4,
      "outputs": [
        {
          "output_type": "execute_result",
          "data": {
            "text/plain": [
              "Date             0\n",
              "Closing Value    7\n",
              "dtype: int64"
            ]
          },
          "metadata": {},
          "execution_count": 4
        }
      ]
    },
    {
      "cell_type": "code",
      "source": [
        "Data.dropna(axis=0,inplace=True)\n",
        "Data.isnull().sum()"
      ],
      "metadata": {
        "colab": {
          "base_uri": "https://localhost:8080/"
        },
        "id": "QgXdh4CnUNB9",
        "outputId": "1a90ec49-8921-4367-a6a6-d13825958916"
      },
      "execution_count": 5,
      "outputs": [
        {
          "output_type": "execute_result",
          "data": {
            "text/plain": [
              "Date             0\n",
              "Closing Value    0\n",
              "dtype: int64"
            ]
          },
          "metadata": {},
          "execution_count": 5
        }
      ]
    },
    {
      "cell_type": "code",
      "source": [
        "Data_oil=Data.reset_index()['Closing Value']"
      ],
      "metadata": {
        "id": "0q6F-FORUr0p"
      },
      "execution_count": 6,
      "outputs": []
    },
    {
      "cell_type": "code",
      "source": [
        "Data_oil"
      ],
      "metadata": {
        "colab": {
          "base_uri": "https://localhost:8080/"
        },
        "id": "a2Tq9SViU6vd",
        "outputId": "6a701e0a-d679-42c9-d578-cf6a4fee25e0"
      },
      "execution_count": 7,
      "outputs": [
        {
          "output_type": "execute_result",
          "data": {
            "text/plain": [
              "0       25.56\n",
              "1       26.00\n",
              "2       26.53\n",
              "3       25.85\n",
              "4       25.87\n",
              "        ...  \n",
              "8211    73.89\n",
              "8212    74.19\n",
              "8213    73.05\n",
              "8214    73.78\n",
              "8215    73.93\n",
              "Name: Closing Value, Length: 8216, dtype: float64"
            ]
          },
          "metadata": {},
          "execution_count": 7
        }
      ]
    },
    {
      "cell_type": "code",
      "source": [
        "from sklearn.preprocessing import MinMaxScaler\n",
        "scaler= MinMaxScaler(feature_range=(0,1))\n",
        "Data_oil=scaler.fit_transform(np.array(Data_oil).reshape(-1,1))"
      ],
      "metadata": {
        "id": "8jtp24GvU8xW"
      },
      "execution_count": 8,
      "outputs": []
    },
    {
      "cell_type": "code",
      "source": [
        "plt.plot(Data_oil)"
      ],
      "metadata": {
        "colab": {
          "base_uri": "https://localhost:8080/",
          "height": 283
        },
        "id": "CoDWjcOJXApE",
        "outputId": "68ceb5b1-473a-4011-80cd-718b6f6623d2"
      },
      "execution_count": 9,
      "outputs": [
        {
          "output_type": "execute_result",
          "data": {
            "text/plain": [
              "[<matplotlib.lines.Line2D at 0x7f3ceca2ffd0>]"
            ]
          },
          "metadata": {},
          "execution_count": 9
        },
        {
          "output_type": "display_data",
          "data": {
            "text/plain": [
              "<Figure size 432x288 with 1 Axes>"
            ],
            "image/png": "[encoded data removed]"
          },
          "metadata": {
            "needs_background": "light"
          }
        }
      ]
    },
    {
      "cell_type": "code",
      "source": [
        "training_size=int(len(Data_oil)*0.65)\n",
        "test_size=len(Data_oil)-training_size\n",
        "train_data,test_Data=Data_oil[0:training_size,:],Data_oil[training_size:len(Data_oil),:1]"
      ],
      "metadata": {
        "id": "m4N0F4VsXZ1O"
      },
      "execution_count": 10,
      "outputs": []
    },
    {
      "cell_type": "code",
      "source": [
        "training_size,test_size"
      ],
      "metadata": {
        "colab": {
          "base_uri": "https://localhost:8080/"
        },
        "id": "Fs0NSkOdYZP9",
        "outputId": "7b0a9c18-9843-404e-a282-411ec1db63af"
      },
      "execution_count": 11,
      "outputs": [
        {
          "output_type": "execute_result",
          "data": {
            "text/plain": [
              "(5340, 2876)"
            ]
          },
          "metadata": {},
          "execution_count": 11
        }
      ]
    },
    {
      "cell_type": "code",
      "source": [
        "train_data.shape"
      ],
      "metadata": {
        "colab": {
          "base_uri": "https://localhost:8080/"
        },
        "id": "ZjPqQf7EYefN",
        "outputId": "a016133c-0530-4c72-a28a-0e1183e576db"
      },
      "execution_count": 12,
      "outputs": [
        {
          "output_type": "execute_result",
          "data": {
            "text/plain": [
              "(5340, 1)"
            ]
          },
          "metadata": {},
          "execution_count": 12
        }
      ]
    },
    {
      "cell_type": "code",
      "source": [
        "def create_dataset(dataset, time_step=1):\n",
        "  dataX, dataY = [],[]\n",
        "  for i in range(len(dataset)-time_step-1):\n",
        "    a = dataset[i:(i+time_step),0]\n",
        "    dataX.append(a)\n",
        "    dataY.append(dataset[i + time_step, 0])\n",
        "  return np.array(dataX),np.array(dataY)  "
      ],
      "metadata": {
        "id": "qJTQbLuKZImu"
      },
      "execution_count": 13,
      "outputs": []
    },
    {
      "cell_type": "code",
      "source": [
        "time_step = 10\n",
        "X_train, y_train = create_dataset(train_data, time_step)\n",
        "X_test, ytest = create_dataset(test_Data, time_step)"
      ],
      "metadata": {
        "id": "peTrN2QVcHYU"
      },
      "execution_count": 14,
      "outputs": []
    },
    {
      "cell_type": "code",
      "source": [
        "print(X_train.shape),print(y_train.shape)\n"
      ],
      "metadata": {
        "colab": {
          "base_uri": "https://localhost:8080/"
        },
        "id": "EuUiwdKccvts",
        "outputId": "a0b231a7-e820-4d5f-bfdc-6d4ee3edeb04"
      },
      "execution_count": 15,
      "outputs": [
        {
          "output_type": "stream",
          "name": "stdout",
          "text": [
            "(5329, 10)\n",
            "(5329,)\n"
          ]
        },
        {
          "output_type": "execute_result",
          "data": {
            "text/plain": [
              "(None, None)"
            ]
          },
          "metadata": {},
          "execution_count": 15
        }
      ]
    },
    {
      "cell_type": "code",
      "source": [
        "print(X_test.shape),print(ytest.shape)"
      ],
      "metadata": {
        "colab": {
          "base_uri": "https://localhost:8080/"
        },
        "id": "Ht1p236edDCU",
        "outputId": "382e8759-8f5f-4589-d83a-758893bd69ca"
      },
      "execution_count": 16,
      "outputs": [
        {
          "output_type": "stream",
          "name": "stdout",
          "text": [
            "(2865, 10)\n",
            "(2865,)\n"
          ]
        },
        {
          "output_type": "execute_result",
          "data": {
            "text/plain": [
              "(None, None)"
            ]
          },
          "metadata": {},
          "execution_count": 16
        }
      ]
    },
    {
      "cell_type": "code",
      "source": [
        "X_train"
      ],
      "metadata": {
        "colab": {
          "base_uri": "https://localhost:8080/"
        },
        "id": "jOzQCu4bdtLl",
        "outputId": "076e06e0-1b92-4a64-ee86-54f4f358736f"
      },
      "execution_count": 17,
      "outputs": [
        {
          "output_type": "execute_result",
          "data": {
            "text/plain": [
              "array([[0.11335703, 0.11661484, 0.12053902, ..., 0.10980305, 0.1089886 ,\n",
              "        0.11054346],\n",
              "       [0.11661484, 0.12053902, 0.11550422, ..., 0.1089886 , 0.11054346,\n",
              "        0.10165852],\n",
              "       [0.12053902, 0.11550422, 0.1156523 , ..., 0.11054346, 0.10165852,\n",
              "        0.09906708],\n",
              "       ...,\n",
              "       [0.36731823, 0.35176958, 0.36080261, ..., 0.36391234, 0.37042796,\n",
              "        0.37042796],\n",
              "       [0.35176958, 0.36080261, 0.35354657, ..., 0.37042796, 0.37042796,\n",
              "        0.37879461],\n",
              "       [0.36080261, 0.35354657, 0.35295424, ..., 0.37042796, 0.37879461,\n",
              "        0.37916482]])"
            ]
          },
          "metadata": {},
          "execution_count": 17
        }
      ]
    },
    {
      "cell_type": "code",
      "source": [
        "X_train =X_train.reshape(X_train.shape[0],X_train.shape[1],1)\n",
        "X_test = X_test.reshape(X_test.shape[0],X_test.shape[1], 1)"
      ],
      "metadata": {
        "id": "seyfBBqYdxDz"
      },
      "execution_count": 18,
      "outputs": []
    },
    {
      "cell_type": "markdown",
      "source": [
        "Model building"
      ],
      "metadata": {
        "id": "ngoAgISiehdc"
      }
    },
    {
      "cell_type": "code",
      "source": [
        "import tensorflow\n",
        "import keras\n",
        "\n"
      ],
      "metadata": {
        "id": "ybWnR0r3he6K"
      },
      "execution_count": null,
      "outputs": []
    },
    {
      "cell_type": "code",
      "source": [
        "from keras.models import Sequential\n",
        "from keras.layers import Dense\n",
        "from keras.layers import LSTM"
      ],
      "metadata": {
        "id": "Mu-CpP4Dh-rj"
      },
      "execution_count": 19,
      "outputs": []
    },
    {
      "cell_type": "code",
      "source": [
        "model=Sequential()"
      ],
      "metadata": {
        "id": "3Vz6CEbKisw8"
      },
      "execution_count": 20,
      "outputs": []
    },
    {
      "cell_type": "code",
      "source": [
        "model = Sequential()\n",
        "model.add(LSTM(50, return_sequences=True, input_shape=(10,1)))\n",
        "model.add(LSTM(50, return_sequences=True))\n",
        "model.add(LSTM(50))\n",
        "model.add(Dense(1))"
      ],
      "metadata": {
        "id": "kpFmp0YMi0X6"
      },
      "execution_count": 21,
      "outputs": []
    },
    {
      "cell_type": "code",
      "source": [
        "model.summary()"
      ],
      "metadata": {
        "colab": {
          "base_uri": "https://localhost:8080/"
        },
        "id": "6G0SN4kLlh2b",
        "outputId": "481314be-2084-4cdb-c0b8-43c24cec88aa"
      },
      "execution_count": 22,
      "outputs": [
        {
          "output_type": "stream",
          "name": "stdout",
          "text": [
            "Model: \"sequential_1\"\n",
            "_________________________________________________________________\n",
            " Layer (type)                Output Shape              Param #   \n",
            "=================================================================\n",
            " lstm (LSTM)                 (None, 10, 50)            10400     \n",
            "                                                                 \n",
            " lstm_1 (LSTM)               (None, 10, 50)            20200     \n",
            "                                                                 \n",
            " lstm_2 (LSTM)               (None, 50)                20200     \n",
            "                                                                 \n",
            " dense (Dense)               (None, 1)                 51        \n",
            "                                                                 \n",
            "=================================================================\n",
            "Total params: 50,851\n",
            "Trainable params: 50,851\n",
            "Non-trainable params: 0\n",
            "_________________________________________________________________\n"
          ]
        }
      ]
    },
    {
      "cell_type": "code",
      "source": [
        "model.compile(loss='mean_squared_error',optimizer='adam')"
      ],
      "metadata": {
        "id": "J4GqEaC0mUOB"
      },
      "execution_count": 24,
      "outputs": []
    },
    {
      "cell_type": "code",
      "source": [
        "model.fit(X_train,y_train,validation_data=(X_test,ytest),epochs=50,batch_size=64,verbose=1)"
      ],
      "metadata": {
        "id": "eq1y7UblmhrD",
        "colab": {
          "base_uri": "https://localhost:8080/"
        },
        "outputId": "6c33bebc-3ed8-4e26-bae8-a0b384edc397"
      },
      "execution_count": 25,
      "outputs": [
        {
          "output_type": "stream",
          "name": "stdout",
          "text": [
            "Epoch 1/50\n",
            "84/84 [==============================] - 9s 38ms/step - loss: 0.0020 - val_loss: 0.0011\n",
            "Epoch 2/50\n",
            "84/84 [==============================] - 2s 23ms/step - loss: 1.2967e-04 - val_loss: 7.9120e-04\n",
            "Epoch 3/50\n",
            "84/84 [==============================] - 2s 22ms/step - loss: 1.3406e-04 - val_loss: 0.0018\n",
            "Epoch 4/50\n",
            "84/84 [==============================] - 2s 21ms/step - loss: 1.3115e-04 - val_loss: 8.7848e-04\n",
            "Epoch 5/50\n",
            "84/84 [==============================] - 2s 23ms/step - loss: 1.2451e-04 - val_loss: 9.3762e-04\n",
            "Epoch 6/50\n",
            "84/84 [==============================] - 2s 30ms/step - loss: 1.3032e-04 - val_loss: 8.7038e-04\n",
            "Epoch 7/50\n",
            "84/84 [==============================] - 2s 23ms/step - loss: 1.1868e-04 - val_loss: 9.7627e-04\n",
            "Epoch 8/50\n",
            "84/84 [==============================] - 2s 22ms/step - loss: 1.3736e-04 - val_loss: 7.6763e-04\n",
            "Epoch 9/50\n",
            "84/84 [==============================] - 2s 22ms/step - loss: 1.2760e-04 - val_loss: 9.0257e-04\n",
            "Epoch 10/50\n",
            "84/84 [==============================] - 2s 21ms/step - loss: 1.1389e-04 - val_loss: 8.5442e-04\n",
            "Epoch 11/50\n",
            "84/84 [==============================] - 2s 22ms/step - loss: 1.1451e-04 - val_loss: 9.1169e-04\n",
            "Epoch 12/50\n",
            "84/84 [==============================] - 2s 21ms/step - loss: 1.1210e-04 - val_loss: 6.9543e-04\n",
            "Epoch 13/50\n",
            "84/84 [==============================] - 2s 23ms/step - loss: 1.1050e-04 - val_loss: 6.5053e-04\n",
            "Epoch 14/50\n",
            "84/84 [==============================] - 2s 23ms/step - loss: 9.9862e-05 - val_loss: 6.2870e-04\n",
            "Epoch 15/50\n",
            "84/84 [==============================] - 2s 22ms/step - loss: 1.0171e-04 - val_loss: 6.3282e-04\n",
            "Epoch 16/50\n",
            "84/84 [==============================] - 2s 23ms/step - loss: 1.0145e-04 - val_loss: 7.4458e-04\n",
            "Epoch 17/50\n",
            "84/84 [==============================] - 2s 23ms/step - loss: 9.3682e-05 - val_loss: 4.9579e-04\n",
            "Epoch 18/50\n",
            "84/84 [==============================] - 2s 22ms/step - loss: 8.8284e-05 - val_loss: 0.0010\n",
            "Epoch 19/50\n",
            "84/84 [==============================] - 2s 22ms/step - loss: 9.9659e-05 - val_loss: 4.9837e-04\n",
            "Epoch 20/50\n",
            "84/84 [==============================] - 2s 22ms/step - loss: 9.9403e-05 - val_loss: 5.1104e-04\n",
            "Epoch 21/50\n",
            "84/84 [==============================] - 2s 22ms/step - loss: 8.6253e-05 - val_loss: 0.0010\n",
            "Epoch 22/50\n",
            "84/84 [==============================] - 2s 21ms/step - loss: 8.3343e-05 - val_loss: 5.1924e-04\n",
            "Epoch 23/50\n",
            "84/84 [==============================] - 2s 22ms/step - loss: 7.7491e-05 - val_loss: 3.6173e-04\n",
            "Epoch 24/50\n",
            "84/84 [==============================] - 2s 21ms/step - loss: 7.2178e-05 - val_loss: 6.7086e-04\n",
            "Epoch 25/50\n",
            "84/84 [==============================] - 2s 23ms/step - loss: 7.0342e-05 - val_loss: 3.1473e-04\n",
            "Epoch 26/50\n",
            "84/84 [==============================] - 2s 22ms/step - loss: 6.9064e-05 - val_loss: 3.2806e-04\n",
            "Epoch 27/50\n",
            "84/84 [==============================] - 2s 23ms/step - loss: 7.5500e-05 - val_loss: 4.1955e-04\n",
            "Epoch 28/50\n",
            "84/84 [==============================] - 2s 22ms/step - loss: 6.0983e-05 - val_loss: 5.3528e-04\n",
            "Epoch 29/50\n",
            "84/84 [==============================] - 2s 23ms/step - loss: 6.5465e-05 - val_loss: 4.1960e-04\n",
            "Epoch 30/50\n",
            "84/84 [==============================] - 2s 21ms/step - loss: 6.1680e-05 - val_loss: 2.5669e-04\n",
            "Epoch 31/50\n",
            "84/84 [==============================] - 2s 22ms/step - loss: 5.5053e-05 - val_loss: 3.9499e-04\n",
            "Epoch 32/50\n",
            "84/84 [==============================] - 2s 22ms/step - loss: 5.6966e-05 - val_loss: 4.1220e-04\n",
            "Epoch 33/50\n",
            "84/84 [==============================] - 2s 23ms/step - loss: 5.5502e-05 - val_loss: 4.1320e-04\n",
            "Epoch 34/50\n",
            "84/84 [==============================] - 2s 23ms/step - loss: 5.0593e-05 - val_loss: 2.6194e-04\n",
            "Epoch 35/50\n",
            "84/84 [==============================] - 2s 22ms/step - loss: 5.2661e-05 - val_loss: 4.3452e-04\n",
            "Epoch 36/50\n",
            "84/84 [==============================] - 2s 23ms/step - loss: 4.9013e-05 - val_loss: 1.9557e-04\n",
            "Epoch 37/50\n",
            "84/84 [==============================] - 2s 23ms/step - loss: 4.9798e-05 - val_loss: 2.2339e-04\n",
            "Epoch 38/50\n",
            "84/84 [==============================] - 2s 22ms/step - loss: 4.5575e-05 - val_loss: 1.8595e-04\n",
            "Epoch 39/50\n",
            "84/84 [==============================] - 2s 23ms/step - loss: 4.5706e-05 - val_loss: 1.9250e-04\n",
            "Epoch 40/50\n",
            "84/84 [==============================] - 2s 21ms/step - loss: 4.3074e-05 - val_loss: 1.9609e-04\n",
            "Epoch 41/50\n",
            "84/84 [==============================] - 2s 22ms/step - loss: 4.0773e-05 - val_loss: 2.3387e-04\n",
            "Epoch 42/50\n",
            "84/84 [==============================] - 2s 22ms/step - loss: 3.8021e-05 - val_loss: 1.8209e-04\n",
            "Epoch 43/50\n",
            "84/84 [==============================] - 2s 21ms/step - loss: 3.7516e-05 - val_loss: 2.1076e-04\n",
            "Epoch 44/50\n",
            "84/84 [==============================] - 2s 21ms/step - loss: 3.6008e-05 - val_loss: 3.4445e-04\n",
            "Epoch 45/50\n",
            "84/84 [==============================] - 2s 22ms/step - loss: 3.4735e-05 - val_loss: 2.0151e-04\n",
            "Epoch 46/50\n",
            "84/84 [==============================] - 2s 21ms/step - loss: 3.6156e-05 - val_loss: 5.5391e-04\n",
            "Epoch 47/50\n",
            "84/84 [==============================] - 2s 21ms/step - loss: 3.9580e-05 - val_loss: 1.9047e-04\n",
            "Epoch 48/50\n",
            "84/84 [==============================] - 2s 21ms/step - loss: 3.3445e-05 - val_loss: 2.3828e-04\n",
            "Epoch 49/50\n",
            "84/84 [==============================] - 2s 21ms/step - loss: 3.3325e-05 - val_loss: 1.7752e-04\n",
            "Epoch 50/50\n",
            "84/84 [==============================] - 2s 22ms/step - loss: 3.5555e-05 - val_loss: 2.4946e-04\n"
          ]
        },
        {
          "output_type": "execute_result",
          "data": {
            "text/plain": [
              "<keras.callbacks.History at 0x7f3c8e64f510>"
            ]
          },
          "metadata": {},
          "execution_count": 25
        }
      ]
    },
    {
      "cell_type": "code",
      "source": [
        "from sklearn.model_selection import train_test_split"
      ],
      "metadata": {
        "id": "vstgojFnubI5"
      },
      "execution_count": 26,
      "outputs": []
    },
    {
      "cell_type": "code",
      "source": [
        "import tensorflow as tf\n",
        "train_predict = model.predict(X_train)\n",
        "test_predict = model.predict(X_test)"
      ],
      "metadata": {
        "colab": {
          "base_uri": "https://localhost:8080/"
        },
        "id": "n8U9z6n_v0KB",
        "outputId": "46c1f645-2348-42ed-86b6-a7c0d2aad4dd"
      },
      "execution_count": 27,
      "outputs": [
        {
          "output_type": "stream",
          "name": "stdout",
          "text": [
            "167/167 [==============================] - 2s 6ms/step\n",
            "90/90 [==============================] - 1s 5ms/step\n"
          ]
        }
      ]
    },
    {
      "cell_type": "code",
      "source": [
        "train_predict= scaler.inverse_transform(train_predict)\n",
        "test_predict=  scaler.inverse_transform(test_predict)"
      ],
      "metadata": {
        "id": "P4ye7i793SRm"
      },
      "execution_count": 28,
      "outputs": []
    },
    {
      "cell_type": "code",
      "source": [
        "import math \n",
        "from sklearn.metrics import mean_squared_error\n",
        "math.sqrt(mean_squared_error(y_train,train_predict))"
      ],
      "metadata": {
        "colab": {
          "base_uri": "https://localhost:8080/"
        },
        "id": "z0YZBGt-3j2v",
        "outputId": "a5405894-7d5c-42e5-b776-e60fa9dbbd78"
      },
      "execution_count": 29,
      "outputs": [
        {
          "output_type": "execute_result",
          "data": {
            "text/plain": [
              "29.780929782350373"
            ]
          },
          "metadata": {},
          "execution_count": 29
        }
      ]
    },
    {
      "cell_type": "code",
      "source": [
        "math.sqrt(mean_squared_error(ytest,test_predict))"
      ],
      "metadata": {
        "colab": {
          "base_uri": "https://localhost:8080/"
        },
        "id": "059oWUoy4OVf",
        "outputId": "d6f36856-0730-483f-95a2-0e82cc521aa5"
      },
      "execution_count": 30,
      "outputs": [
        {
          "output_type": "execute_result",
          "data": {
            "text/plain": [
              "80.00817828847731"
            ]
          },
          "metadata": {},
          "execution_count": 30
        }
      ]
    },
    {
      "cell_type": "code",
      "source": [
        "from tensorflow.keras.models import load_model\n"
      ],
      "metadata": {
        "id": "C4iuylKv4YR2"
      },
      "execution_count": 31,
      "outputs": []
    },
    {
      "cell_type": "code",
      "source": [
        "model.save(\"crude_oil.h5\")"
      ],
      "metadata": {
        "id": "BNCyWfd-4492"
      },
      "execution_count": 32,
      "outputs": []
    },
    {
      "cell_type": "code",
      "source": [
        "look_back=10\n",
        "trainPredictPlot = np.empty_like(Data_oil)\n",
        "trainPredictPlot[:, :]=np.nan\n",
        "trainPredictPlot[look_back:len(train_predict)+look_back,:]= train_predict\n",
        "testPredictPlot = np.empty_like(Data_oil)\n",
        "testPredictPlot[:, :]=np.nan\n",
        "testPredictPlot[len(train_predict)+(look_back*2)+1:len(Data_oil)-1, :]= test_predict\n",
        "plt.plot(scaler.inverse_transform(Data_oil))\n",
        "plt.plot(trainPredictPlot,label=\"traindata\")\n",
        "plt.plot(testPredictPlot,label=\"testdata\")\n",
        "plt.show()\n",
        "print(\"Green indicates predicated data\")\n",
        "print(\"Blue indicates complete data\")\n",
        "print(\"Orange indicates train data\")"
      ],
      "metadata": {
        "colab": {
          "base_uri": "https://localhost:8080/",
          "height": 320
        },
        "id": "1AR0u1bH46ge",
        "outputId": "b81dc291-853d-4292-8d72-e9286d00a9bd"
      },
      "execution_count": 33,
      "outputs": [
        {
          "output_type": "display_data",
          "data": {
            "text/plain": [
              "<Figure size 432x288 with 1 Axes>"
            ],
            "image/png": "[encoded data removed]"
          },
          "metadata": {
            "needs_background": "light"
          }
        },
        {
          "output_type": "stream",
          "name": "stdout",
          "text": [
            "Green indicates predicated data\n",
            "Blue indicates complete data\n",
            "Orange indicates train data\n"
          ]
        }
      ]
    },
    {
      "cell_type": "code",
      "source": [
        "len(test_Data)"
      ],
      "metadata": {
        "colab": {
          "base_uri": "https://localhost:8080/"
        },
        "id": "mZajGQiY5fYM",
        "outputId": "23d7210b-af56-4cb0-dab7-f3a16d96d550"
      },
      "execution_count": 34,
      "outputs": [
        {
          "output_type": "execute_result",
          "data": {
            "text/plain": [
              "2876"
            ]
          },
          "metadata": {},
          "execution_count": 34
        }
      ]
    },
    {
      "cell_type": "code",
      "source": [
        "X_input=test_Data[2866:].reshape(1,-1)\n",
        "X_input.shape"
      ],
      "metadata": {
        "colab": {
          "base_uri": "https://localhost:8080/"
        },
        "id": "bTexKban5l5S",
        "outputId": "61242c70-dbd7-43f5-d2c3-1b99d16eb2cc"
      },
      "execution_count": 35,
      "outputs": [
        {
          "output_type": "execute_result",
          "data": {
            "text/plain": [
              "(1, 10)"
            ]
          },
          "metadata": {},
          "execution_count": 35
        }
      ]
    },
    {
      "cell_type": "code",
      "source": [
        "temp_input=list(X_input)\n",
        "temp_input=temp_input[0].tolist()"
      ],
      "metadata": {
        "id": "ZpzKtAxX5shW"
      },
      "execution_count": 36,
      "outputs": []
    },
    {
      "cell_type": "code",
      "source": [
        "temp_input"
      ],
      "metadata": {
        "colab": {
          "base_uri": "https://localhost:8080/"
        },
        "id": "kUUL4nNZ5wPX",
        "outputId": "cbbb640f-168b-4c35-d7d0-da361771b14b"
      },
      "execution_count": 37,
      "outputs": [
        {
          "output_type": "execute_result",
          "data": {
            "text/plain": [
              "[0.44172960165852215,\n",
              " 0.48111950244335855,\n",
              " 0.49726047682511476,\n",
              " 0.4679401747371539,\n",
              " 0.4729749740855915,\n",
              " 0.47119798608026064,\n",
              " 0.47341922108692425,\n",
              " 0.4649785280616022,\n",
              " 0.4703835332444839,\n",
              " 0.47149415074781587]"
            ]
          },
          "metadata": {},
          "execution_count": 37
        }
      ]
    },
    {
      "cell_type": "code",
      "source": [
        "lst_output=[]\n",
        "n_steps=10\n",
        "i=0\n",
        "while(i<10):\n",
        "  if(len(temp_input)>10):\n",
        "    X_input=np.array(temp_input[1:])\n",
        "    print(\"{} Day input {}\".format(i,X_input))\n",
        "    X_input=X_input.reshape(1,-1)\n",
        "    X_input=X_input.reshape((1,n_steps,1))   \n",
        "    yhat=model.predict(X_input, verbose=0)\n",
        "    print(\"{} Day output {}\".format(i,yhat))\n",
        "    temp_input.extend(yhat[0].tolist())\n",
        "    temp_input=temp_input[1:]\n",
        "    lst_output.extend(yhat.tolist())\n",
        "    i=i+1\n",
        "  else:\n",
        "    X_input=X_input.reshape((1,n_steps,1))\n",
        "    yhat=model.predict(X_input, verbose=0)\n",
        "    print(yhat[0])\n",
        "    temp_input.extend(yhat[0].tolist())\n",
        "    print(len(temp_input))\n",
        "    lst_output.extend(yhat.tolist())\n",
        "    i=i+1"
      ],
      "metadata": {
        "colab": {
          "base_uri": "https://localhost:8080/"
        },
        "id": "SwQdIJAG54rE",
        "outputId": "0c90640c-50b5-46eb-cf0e-613006ec5add"
      },
      "execution_count": 38,
      "outputs": [
        {
          "output_type": "stream",
          "name": "stdout",
          "text": [
            "[0.48271394]\n",
            "11\n",
            "1 Day input [0.4811195  0.49726048 0.46794017 0.47297497 0.47119799 0.47341922\n",
            " 0.46497853 0.47038353 0.47149415 0.48271394]\n",
            "1 Day output [[0.49502867]]\n",
            "2 Day input [0.49726048 0.46794017 0.47297497 0.47119799 0.47341922 0.46497853\n",
            " 0.47038353 0.47149415 0.48271394 0.49502867]\n",
            "2 Day output [[0.5077646]]\n",
            "3 Day input [0.46794017 0.47297497 0.47119799 0.47341922 0.46497853 0.47038353\n",
            " 0.47149415 0.48271394 0.49502867 0.50776458]\n",
            "3 Day output [[0.5195375]]\n",
            "4 Day input [0.47297497 0.47119799 0.47341922 0.46497853 0.47038353 0.47149415\n",
            " 0.48271394 0.49502867 0.50776458 0.51953751]\n",
            "4 Day output [[0.5301123]]\n",
            "5 Day input [0.47119799 0.47341922 0.46497853 0.47038353 0.47149415 0.48271394\n",
            " 0.49502867 0.50776458 0.51953751 0.53011233]\n",
            "5 Day output [[0.5392478]]\n",
            "6 Day input [0.47341922 0.46497853 0.47038353 0.47149415 0.48271394 0.49502867\n",
            " 0.50776458 0.51953751 0.53011233 0.53924781]\n",
            "6 Day output [[0.5471674]]\n",
            "7 Day input [0.46497853 0.47038353 0.47149415 0.48271394 0.49502867 0.50776458\n",
            " 0.51953751 0.53011233 0.53924781 0.54716742]\n",
            "7 Day output [[0.554239]]\n",
            "8 Day input [0.47038353 0.47149415 0.48271394 0.49502867 0.50776458 0.51953751\n",
            " 0.53011233 0.53924781 0.54716742 0.55423898]\n",
            "8 Day output [[0.56104124]]\n",
            "9 Day input [0.47149415 0.48271394 0.49502867 0.50776458 0.51953751 0.53011233\n",
            " 0.53924781 0.54716742 0.55423898 0.56104124]\n",
            "9 Day output [[0.5679566]]\n"
          ]
        }
      ]
    },
    {
      "cell_type": "code",
      "source": [
        "day_new=np.arange(1,11)\n",
        "day_pred=np.arange(11,21)"
      ],
      "metadata": {
        "id": "YyM6ZHl15-0c"
      },
      "execution_count": 39,
      "outputs": []
    },
    {
      "cell_type": "code",
      "source": [
        "len(Data_oil)"
      ],
      "metadata": {
        "colab": {
          "base_uri": "https://localhost:8080/"
        },
        "id": "v0otGpq26PT1",
        "outputId": "b8fc52e9-c8bf-4f36-ef8a-10235c281310"
      },
      "execution_count": 40,
      "outputs": [
        {
          "output_type": "execute_result",
          "data": {
            "text/plain": [
              "8216"
            ]
          },
          "metadata": {},
          "execution_count": 40
        }
      ]
    },
    {
      "cell_type": "code",
      "source": [
        "plt.plot(day_new,scaler.inverse_transform(Data_oil[8206:]))\n",
        "plt.plot(day_pred,scaler.inverse_transform(lst_output))"
      ],
      "metadata": {
        "colab": {
          "base_uri": "https://localhost:8080/",
          "height": 284
        },
        "id": "OsFRudL86T7d",
        "outputId": "1b7f4e31-0512-4ead-bada-e791db2d7db0"
      },
      "execution_count": 41,
      "outputs": [
        {
          "output_type": "execute_result",
          "data": {
            "text/plain": [
              "[<matplotlib.lines.Line2D at 0x7f3c89c217d0>]"
            ]
          },
          "metadata": {},
          "execution_count": 41
        },
        {
          "output_type": "display_data",
          "data": {
            "text/plain": [
              "<Figure size 432x288 with 1 Axes>"
            ],
            "image/png": "[encoded data removed]"
          },
          "metadata": {
            "needs_background": "light"
          }
        }
      ]
    },
    {
      "cell_type": "code",
      "source": [
        "df3=Data_oil.tolist()\n",
        "df3.extend(lst_output)\n",
        "plt.plot(df3[8100:])"
      ],
      "metadata": {
        "colab": {
          "base_uri": "https://localhost:8080/",
          "height": 283
        },
        "id": "T6ehTMzR67Ll",
        "outputId": "f35c7e18-2983-4dc8-e883-e1cf58fdaa4c"
      },
      "execution_count": 42,
      "outputs": [
        {
          "output_type": "execute_result",
          "data": {
            "text/plain": [
              "[<matplotlib.lines.Line2D at 0x7f3c8dd28510>]"
            ]
          },
          "metadata": {},
          "execution_count": 42
        },
        {
          "output_type": "display_data",
          "data": {
            "text/plain": [
              "<Figure size 432x288 with 1 Axes>"
            ],
            "image/png": "[encoded data removed]"
          },
          "metadata": {
            "needs_background": "light"
          }
        }
      ]
    },
    {
      "cell_type": "code",
      "source": [
        "df3=scaler.inverse_transform(df3).tolist()\n",
        "plt.plot(df3)"
      ],
      "metadata": {
        "colab": {
          "base_uri": "https://localhost:8080/",
          "height": 283
        },
        "id": "evvYIHA87EZl",
        "outputId": "0ce3eace-b190-42e4-9001-12fe7997dcc1"
      },
      "execution_count": 43,
      "outputs": [
        {
          "output_type": "execute_result",
          "data": {
            "text/plain": [
              "[<matplotlib.lines.Line2D at 0x7f3c8dd0e1d0>]"
            ]
          },
          "metadata": {},
          "execution_count": 43
        },
        {
          "output_type": "display_data",
          "data": {
            "text/plain": [
              "<Figure size 432x288 with 1 Axes>"
            ],
            "image/png": "[encoded data removed]"
          },
          "metadata": {
            "needs_background": "light"
          }
        }
      ]
    }
  ]
}