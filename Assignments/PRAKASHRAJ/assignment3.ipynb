{
 "cells": [
  {
   "cell_type": "markdown",
   "id": "a5a9223d",
   "metadata": {},
   "source": [
    "# Assignment 3 - Build CNN Model for Classification Of Flowers\n",
    "\n",
    "## Team member- Prakashraj N (Roll No: 310619104092)"
   ]
  },
  {
   "cell_type": "code",
   "execution_count": 1,
   "id": "5eb08f5a",
   "metadata": {},
   "outputs": [],
   "source": [
    "import splitfolders\n",
    "import numpy as np\n",
    "import tensorflow as tf\n",
    "from tensorflow.keras.preprocessing.image import ImageDataGenerator\n",
    "from tensorflow.keras.preprocessing import image\n",
    "from tensorflow.keras import layers\n",
    "from tensorflow.keras.models import Sequential\n",
    "from tensorflow.keras.models import load_model\n",
    "from tensorflow.keras.layers import Dense,Convolution2D,MaxPooling2D,Flatten\n",
    "from tensorflow.keras.applications.resnet50 import preprocess_input, decode_predictions\n",
    "from tensorflow.keras.preprocessing import image\n",
    "import matplotlib.pyplot as plt"
   ]
  },
  {
   "cell_type": "markdown",
   "id": "f28112e4",
   "metadata": {},
   "source": [
    "## 2. Image Augmentation"
   ]
  },
  {
   "cell_type": "code",
   "execution_count": 2,
   "id": "2add66d3",
   "metadata": {},
   "outputs": [],
   "source": [
    "train_datagen = ImageDataGenerator(rescale=1./255,zoom_range=0.2,horizontal_flip=True,vertical_flip=False)"
   ]
  },
  {
   "cell_type": "code",
   "execution_count": 3,
   "id": "43003d90",
   "metadata": {},
   "outputs": [],
   "source": [
    "test_datagen = ImageDataGenerator(rescale=1./255)"
   ]
  },
  {
   "cell_type": "code",
   "execution_count": 4,
   "id": "a6b73f4f",
   "metadata": {},
   "outputs": [],
   "source": [
    "input_folder = '.\\Flowers-Dataset\\\\flowers'"
   ]
  },
  {
   "cell_type": "code",
   "execution_count": 5,
   "id": "3b11d23c",
   "metadata": {
    "scrolled": true
   },
   "outputs": [
    {
     "name": "stderr",
     "output_type": "stream",
     "text": [
      "Copying files: 4317 files [00:03, 1292.11 files/s]\n"
     ]
    }
   ],
   "source": [
    "splitfolders.ratio(input_folder,output=\"flowers\",ratio=(.8,0,.2),group_prefix=None)\n"
   ]
  },
  {
   "cell_type": "code",
   "execution_count": 6,
   "id": "71b8dc68",
   "metadata": {},
   "outputs": [
    {
     "name": "stdout",
     "output_type": "stream",
     "text": [
      "Found 3452 images belonging to 5 classes.\n"
     ]
    }
   ],
   "source": [
    "x_train=train_datagen.flow_from_directory(r\".\\flowers\\train\",target_size=(64,64),class_mode='categorical',batch_size=24)"
   ]
  },
  {
   "cell_type": "code",
   "execution_count": 7,
   "id": "19a9838e",
   "metadata": {},
   "outputs": [
    {
     "name": "stdout",
     "output_type": "stream",
     "text": [
      "Found 865 images belonging to 5 classes.\n"
     ]
    }
   ],
   "source": [
    "x_test=test_datagen.flow_from_directory(r\".\\flowers\\test\",target_size=(64,64),class_mode='categorical',batch_size=24)"
   ]
  },
  {
   "cell_type": "code",
   "execution_count": 8,
   "id": "73a569a0",
   "metadata": {},
   "outputs": [
    {
     "data": {
      "text/plain": [
       "{'daisy': 0, 'dandelion': 1, 'rose': 2, 'sunflower': 3, 'tulip': 4}"
      ]
     },
     "execution_count": 8,
     "metadata": {},
     "output_type": "execute_result"
    }
   ],
   "source": [
    "x_train.class_indices"
   ]
  },
  {
   "cell_type": "markdown",
   "id": "2776ea4e",
   "metadata": {},
   "source": [
    "## 3. Create Model"
   ]
  },
  {
   "cell_type": "code",
   "execution_count": 9,
   "id": "cb22579b",
   "metadata": {},
   "outputs": [],
   "source": [
    "model=Sequential()"
   ]
  },
  {
   "cell_type": "markdown",
   "id": "54181b61",
   "metadata": {},
   "source": [
    "## 4. Add Layers"
   ]
  },
  {
   "cell_type": "markdown",
   "id": "e97c977c",
   "metadata": {},
   "source": [
    "### 4.1. Convolution Layer"
   ]
  },
  {
   "cell_type": "code",
   "execution_count": 10,
   "id": "c556f31b",
   "metadata": {},
   "outputs": [],
   "source": [
    "model.add(Convolution2D(32,(3,3),input_shape=(64,64,3),activation='relu'))"
   ]
  },
  {
   "cell_type": "markdown",
   "id": "eb57f46d",
   "metadata": {},
   "source": [
    "### 4.2. MaxPooling Layer"
   ]
  },
  {
   "cell_type": "code",
   "execution_count": 11,
   "id": "98c0a4bc",
   "metadata": {},
   "outputs": [],
   "source": [
    "model.add(MaxPooling2D(pool_size=(2,2)))"
   ]
  },
  {
   "cell_type": "markdown",
   "id": "fcc3f195",
   "metadata": {},
   "source": [
    "### 4.3. Flatten Layer"
   ]
  },
  {
   "cell_type": "code",
   "execution_count": 12,
   "id": "e7dbc445",
   "metadata": {},
   "outputs": [],
   "source": [
    "model.add(Flatten())"
   ]
  },
  {
   "cell_type": "markdown",
   "id": "fb1e3b04",
   "metadata": {},
   "source": [
    "### 4.4. Dense Layer"
   ]
  },
  {
   "cell_type": "code",
   "execution_count": 13,
   "id": "af730252",
   "metadata": {},
   "outputs": [],
   "source": [
    "model.add(Dense(300,activation='relu'))\n",
    "model.add(Dense(150,activation='relu'))"
   ]
  },
  {
   "cell_type": "code",
   "execution_count": 14,
   "id": "af1714c3",
   "metadata": {},
   "outputs": [
    {
     "name": "stdout",
     "output_type": "stream",
     "text": [
      "Model: \"sequential\"\n",
      "_________________________________________________________________\n",
      " Layer (type)                Output Shape              Param #   \n",
      "=================================================================\n",
      " conv2d (Conv2D)             (None, 62, 62, 32)        896       \n",
      "                                                                 \n",
      " max_pooling2d (MaxPooling2D  (None, 31, 31, 32)       0         \n",
      " )                                                               \n",
      "                                                                 \n",
      " flatten (Flatten)           (None, 30752)             0         \n",
      "                                                                 \n",
      " dense (Dense)               (None, 300)               9225900   \n",
      "                                                                 \n",
      " dense_1 (Dense)             (None, 150)               45150     \n",
      "                                                                 \n",
      "=================================================================\n",
      "Total params: 9,271,946\n",
      "Trainable params: 9,271,946\n",
      "Non-trainable params: 0\n",
      "_________________________________________________________________\n"
     ]
    }
   ],
   "source": [
    "model.summary()"
   ]
  },
  {
   "cell_type": "markdown",
   "id": "15b5b65a",
   "metadata": {},
   "source": [
    "### 4.5. Output Layer"
   ]
  },
  {
   "cell_type": "code",
   "execution_count": 15,
   "id": "756fd854",
   "metadata": {},
   "outputs": [],
   "source": [
    "model.add(Dense(5,activation='softmax'))"
   ]
  },
  {
   "cell_type": "code",
   "execution_count": 16,
   "id": "b3e794ba",
   "metadata": {},
   "outputs": [
    {
     "name": "stdout",
     "output_type": "stream",
     "text": [
      "Model: \"sequential\"\n",
      "_________________________________________________________________\n",
      " Layer (type)                Output Shape              Param #   \n",
      "=================================================================\n",
      " conv2d (Conv2D)             (None, 62, 62, 32)        896       \n",
      "                                                                 \n",
      " max_pooling2d (MaxPooling2D  (None, 31, 31, 32)       0         \n",
      " )                                                               \n",
      "                                                                 \n",
      " flatten (Flatten)           (None, 30752)             0         \n",
      "                                                                 \n",
      " dense (Dense)               (None, 300)               9225900   \n",
      "                                                                 \n",
      " dense_1 (Dense)             (None, 150)               45150     \n",
      "                                                                 \n",
      " dense_2 (Dense)             (None, 5)                 755       \n",
      "                                                                 \n",
      "=================================================================\n",
      "Total params: 9,272,701\n",
      "Trainable params: 9,272,701\n",
      "Non-trainable params: 0\n",
      "_________________________________________________________________\n"
     ]
    }
   ],
   "source": [
    " model.summary()"
   ]
  },
  {
   "cell_type": "markdown",
   "id": "35a3689f",
   "metadata": {},
   "source": [
    "## 5. Compile The Model"
   ]
  },
  {
   "cell_type": "code",
   "execution_count": 17,
   "id": "31585a18",
   "metadata": {},
   "outputs": [
    {
     "data": {
      "text/plain": [
       "144"
      ]
     },
     "execution_count": 17,
     "metadata": {},
     "output_type": "execute_result"
    }
   ],
   "source": [
    "model.compile(loss='categorical_crossentropy',optimizer='adam',metrics=['accuracy'])\n",
    "len(x_train)"
   ]
  },
  {
   "cell_type": "markdown",
   "id": "2d455502",
   "metadata": {},
   "source": [
    "## 6. Fit The Model"
   ]
  },
  {
   "cell_type": "code",
   "execution_count": 18,
   "id": "0b2b3891",
   "metadata": {},
   "outputs": [
    {
     "name": "stdout",
     "output_type": "stream",
     "text": [
      "Epoch 1/20\n",
      "144/144 [==============================] - 29s 202ms/step - loss: 1.4725 - accuracy: 0.4293 - val_loss: 1.1148 - val_accuracy: 0.5538\n",
      "Epoch 2/20\n",
      "144/144 [==============================] - 15s 101ms/step - loss: 1.0813 - accuracy: 0.5640 - val_loss: 1.0807 - val_accuracy: 0.5653\n",
      "Epoch 3/20\n",
      "144/144 [==============================] - 15s 102ms/step - loss: 0.9676 - accuracy: 0.6185 - val_loss: 1.0689 - val_accuracy: 0.5977\n",
      "Epoch 4/20\n",
      "144/144 [==============================] - 15s 101ms/step - loss: 0.9144 - accuracy: 0.6411 - val_loss: 0.9561 - val_accuracy: 0.6497\n",
      "Epoch 5/20\n",
      "144/144 [==============================] - 17s 116ms/step - loss: 0.8731 - accuracy: 0.6561 - val_loss: 0.9766 - val_accuracy: 0.6370\n",
      "Epoch 6/20\n",
      "144/144 [==============================] - 15s 107ms/step - loss: 0.8303 - accuracy: 0.6784 - val_loss: 1.0373 - val_accuracy: 0.6324\n",
      "Epoch 7/20\n",
      "144/144 [==============================] - 16s 108ms/step - loss: 0.7858 - accuracy: 0.6947 - val_loss: 1.1446 - val_accuracy: 0.5734\n",
      "Epoch 8/20\n",
      "144/144 [==============================] - 15s 105ms/step - loss: 0.7539 - accuracy: 0.7138 - val_loss: 1.1979 - val_accuracy: 0.5873\n",
      "Epoch 9/20\n",
      "144/144 [==============================] - 15s 107ms/step - loss: 0.7262 - accuracy: 0.7135 - val_loss: 1.0924 - val_accuracy: 0.6231\n",
      "Epoch 10/20\n",
      "144/144 [==============================] - 15s 101ms/step - loss: 0.6684 - accuracy: 0.7445 - val_loss: 1.1218 - val_accuracy: 0.6220\n",
      "Epoch 11/20\n",
      "144/144 [==============================] - 15s 106ms/step - loss: 0.6142 - accuracy: 0.7683 - val_loss: 1.0576 - val_accuracy: 0.6486\n",
      "Epoch 12/20\n",
      "144/144 [==============================] - 15s 106ms/step - loss: 0.6006 - accuracy: 0.7703 - val_loss: 1.0454 - val_accuracy: 0.6520\n",
      "Epoch 13/20\n",
      "144/144 [==============================] - 15s 105ms/step - loss: 0.5584 - accuracy: 0.7859 - val_loss: 1.0735 - val_accuracy: 0.6566\n",
      "Epoch 14/20\n",
      "144/144 [==============================] - 15s 102ms/step - loss: 0.5387 - accuracy: 0.7966 - val_loss: 1.1083 - val_accuracy: 0.6451\n",
      "Epoch 15/20\n",
      "144/144 [==============================] - 15s 103ms/step - loss: 0.4935 - accuracy: 0.8134 - val_loss: 1.0815 - val_accuracy: 0.6462\n",
      "Epoch 16/20\n",
      "144/144 [==============================] - 14s 100ms/step - loss: 0.4961 - accuracy: 0.8172 - val_loss: 1.0991 - val_accuracy: 0.6520\n",
      "Epoch 17/20\n",
      "144/144 [==============================] - 15s 103ms/step - loss: 0.4373 - accuracy: 0.8418 - val_loss: 1.2605 - val_accuracy: 0.6728\n",
      "Epoch 18/20\n",
      "144/144 [==============================] - 15s 102ms/step - loss: 0.4228 - accuracy: 0.8444 - val_loss: 1.1316 - val_accuracy: 0.6543\n",
      "Epoch 19/20\n",
      "144/144 [==============================] - 15s 104ms/step - loss: 0.3853 - accuracy: 0.8612 - val_loss: 1.1264 - val_accuracy: 0.6636\n",
      "Epoch 20/20\n",
      "144/144 [==============================] - 14s 100ms/step - loss: 0.3900 - accuracy: 0.8502 - val_loss: 1.1911 - val_accuracy: 0.6532\n"
     ]
    }
   ],
   "source": [
    "epo=20\n",
    "history = model.fit(x_train,steps_per_epoch=len(x_train),validation_data=x_test,validation_steps=len(x_test),epochs=epo)"
   ]
  },
  {
   "cell_type": "code",
   "execution_count": 19,
   "id": "e8a2b12a",
   "metadata": {},
   "outputs": [
    {
     "data": {
      "image/png": "[encoded data removed]",
      "text/plain": [
       "<Figure size 576x576 with 1 Axes>"
      ]
     },
     "metadata": {
      "needs_background": "light"
     },
     "output_type": "display_data"
    }
   ],
   "source": [
    "epochs_range = range(epo)\n",
    "\n",
    "plt.figure(figsize=(8, 8))\n",
    "plt.plot(epochs_range, history.history['accuracy'], label='Training Accuracy')\n",
    "plt.plot(epochs_range, history.history['val_accuracy'], label='Validation Accuracy')\n",
    "plt.legend()\n",
    "plt.title('Training and Validation Accuracy')\n",
    "plt.show()"
   ]
  },
  {
   "cell_type": "code",
   "execution_count": 20,
   "id": "6847159c",
   "metadata": {},
   "outputs": [
    {
     "data": {
      "image/png": "[encoded data removed]",
      "text/plain": [
       "<Figure size 576x576 with 1 Axes>"
      ]
     },
     "metadata": {
      "needs_background": "light"
     },
     "output_type": "display_data"
    }
   ],
   "source": [
    "plt.figure(figsize=(8, 8))\n",
    "plt.plot(epochs_range, history.history['loss'], label='Training Loss')\n",
    "plt.plot(epochs_range, history.history['val_loss'], label='Validation Loss')\n",
    "plt.legend()\n",
    "plt.title('Training and Validation Loss')\n",
    "plt.show()"
   ]
  },
  {
   "cell_type": "markdown",
   "id": "5ef78c74",
   "metadata": {},
   "source": [
    "## 7. Save the Model"
   ]
  },
  {
   "cell_type": "code",
   "execution_count": 21,
   "id": "d0520af3",
   "metadata": {},
   "outputs": [],
   "source": [
    "model.save('flowers.h5')"
   ]
  },
  {
   "cell_type": "markdown",
   "id": "2d508abb",
   "metadata": {},
   "source": [
    "## 8. Test the Model"
   ]
  },
  {
   "cell_type": "code",
   "execution_count": 22,
   "id": "453b23d0",
   "metadata": {},
   "outputs": [
    {
     "name": "stdout",
     "output_type": "stream",
     "text": [
      "1/1 [==============================] - 0s 77ms/step\n"
     ]
    },
    {
     "data": {
      "text/plain": [
       "'daisy'"
      ]
     },
     "execution_count": 22,
     "metadata": {},
     "output_type": "execute_result"
    }
   ],
   "source": [
    "img=image.load_img(r\".\\flowers\\test\\daisy\\3706420943_66f3214862_n.jpg\",target_size=(64,64))\n",
    "x=image.img_to_array(img)\n",
    "x=np.expand_dims(x,axis=0)\n",
    "y=np.argmax(model.predict(x),axis=1)\n",
    "x_train.class_indices\n",
    "index=['daisy','dandellion','rose','sunflower','tulip']\n",
    "index[y[0]]"
   ]
  },
  {
   "cell_type": "code",
   "execution_count": 23,
   "id": "1c304e55",
   "metadata": {},
   "outputs": [
    {
     "name": "stdout",
     "output_type": "stream",
     "text": [
      "Downloading data from https://storage.googleapis.com/download.tensorflow.org/example_images/592px-Red_sunflower.jpg\n",
      "117948/117948 [==============================] - 0s 0us/step\n",
      "Downloading data from https://storage.googleapis.com/tensorflow/keras-applications/resnet/resnet50_weights_tf_dim_ordering_tf_kernels.h5\n",
      "102967424/102967424 [==============================] - 3s 0us/step\n",
      "1/1 [==============================] - 1s 868ms/step\n",
      "Downloading data from https://storage.googleapis.com/download.tensorflow.org/data/imagenet_class_index.json\n",
      "35363/35363 [==============================] - 0s 0us/step\n",
      "[('n11939491', 'daisy', 0.5775759), ('n02206856', 'bee', 0.24938338), ('n03991062', 'pot', 0.01181931)]\n"
     ]
    }
   ],
   "source": [
    "img_url = \"https://storage.googleapis.com/download.tensorflow.org/example_images/592px-Red_sunflower.jpg\"\n",
    "img_path = tf.keras.utils.get_file('Red_sunflower', origin=img_url)\n",
    "\n",
    "img = image.load_img(img_path, target_size=(224, 224))\n",
    "img_array = image.img_to_array(img)\n",
    "img_batch = np.expand_dims(img_array, axis=0)\n",
    "\n",
    "img_preprocessed = preprocess_input(img_batch)\n",
    "model = tf.keras.applications.resnet50.ResNet50()\n",
    "prediction = model.predict(img_preprocessed)\n",
    "\n",
    "print(decode_predictions(prediction, top=3)[0])\n",
    "\n",
    "score = tf.nn.softmax(prediction[0])"
   ]
  }
 ],
 "metadata": {
  "kernelspec": {
   "display_name": "Python 3.10.6 64-bit",
   "language": "python",
   "name": "python3"
  },
  "language_info": {
   "codemirror_mode": {
    "name": "ipython",
    "version": 3
   },
   "file_extension": ".py",
   "mimetype": "text/x-python",
   "name": "python",
   "nbconvert_exporter": "python",
   "pygments_lexer": "ipython3",
   "version": "3.10.6"
  },
  "vscode": {
   "interpreter": {
    "hash": "52634da84371cba311ea128a5ea7cdc41ff074b781779e754b270ff9f8153cee"
   }
  }
 },
 "nbformat": 4,
 "nbformat_minor": 5
}
